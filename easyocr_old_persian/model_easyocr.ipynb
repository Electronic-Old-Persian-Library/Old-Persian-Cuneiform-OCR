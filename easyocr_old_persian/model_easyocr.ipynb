{
  "nbformat": 4,
  "nbformat_minor": 0,
  "metadata": {
    "colab": {
      "provenance": []
    },
    "kernelspec": {
      "name": "python3",
      "display_name": "Python 3"
    },
    "language_info": {
      "name": "python"
    }
  },
  "cells": [
    {
      "cell_type": "code",
      "source": [
        "!pip install easyocr"
      ],
      "metadata": {
        "id": "qbuPeEdPN1a6"
      },
      "execution_count": null,
      "outputs": []
    },
    {
      "cell_type": "code",
      "execution_count": null,
      "metadata": {
        "id": "fYCYMcgINigx"
      },
      "outputs": [],
      "source": [
        "!cp /root/EasyOCR//user_network/custom_example.yaml /root/.EasyOCR//user_network/custom_example.yaml"
      ]
    },
    {
      "cell_type": "code",
      "source": [
        "!cp /root/EasyOCR/user_network/custom_example.py /root/.EasyOCR/user_network/custom_example.py"
      ],
      "metadata": {
        "id": "6tHcIp8-NpFH"
      },
      "execution_count": null,
      "outputs": []
    },
    {
      "cell_type": "code",
      "source": [
        "!cp /root/EasyOCR/model/custom_example.pth /root/.EasyOCR/model/custom_example.pth"
      ],
      "metadata": {
        "id": "zzKT-nMyNq-w"
      },
      "execution_count": null,
      "outputs": []
    },
    {
      "cell_type": "code",
      "source": [
        "!mv /content/op_char.txt /usr/local/lib/python3.10/dist-packages/easyocr/character"
      ],
      "metadata": {
        "id": "hiS4-k2ROWP7"
      },
      "execution_count": null,
      "outputs": []
    },
    {
      "cell_type": "code",
      "source": [
        "#single word:\n",
        "import easyocr\n",
        "reader = easyocr.Reader(['op'], recog_network='custom_example')\n",
        "result = reader.readtext('/content/Auramazda.png', detail=0)\n",
        "print(result)"
      ],
      "metadata": {
        "id": "ydow2CdtNtX-"
      },
      "execution_count": null,
      "outputs": []
    },
    {
      "cell_type": "code",
      "source": [
        "#single lines:\n",
        "reader = easyocr.Reader(['op'], recog_network='custom_example')\n",
        "result = reader.readtext('/content/line7.png', detail=0)\n",
        "print(result)"
      ],
      "metadata": {
        "id": "NPkFMfP1NzHD"
      },
      "execution_count": null,
      "outputs": []
    },
    {
      "cell_type": "code",
      "source": [
        "#multiple lines\n",
        "text = ''\n",
        "results = reader.readtext('/content/DPd.png')\n",
        "for result in results:\n",
        "  text = text + result[1] +  ' '\n",
        "\n",
        "text = text[:-1]\n",
        "print(text)"
      ],
      "metadata": {
        "id": "MR1390cmNwFu"
      },
      "execution_count": null,
      "outputs": []
    }
  ]
}